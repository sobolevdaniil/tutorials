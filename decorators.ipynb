{
 "cells": [
  {
   "cell_type": "markdown",
   "id": "c30cf2ac-ef31-41d4-956c-bcd49d606859",
   "metadata": {},
   "source": [
    "Декораторы в Python — это мощный инструмент, который позволяет модифицировать поведение функций или классов без изменения их кода.<br>\n",
    "Они представляют собой функции высшего порядка, то есть функции, которые принимают другие функции в качестве аргументов и возвращают новые функции. В Python декораторы обычно применяются с помощью синтаксиса @decorator перед определением функции или класса."
   ]
  },
  {
   "cell_type": "markdown",
   "id": "d63920a1-be5b-415c-9672-713bd24e273e",
   "metadata": {},
   "source": [
    "## Импорт Библиотек"
   ]
  },
  {
   "cell_type": "code",
   "execution_count": 1,
   "id": "09324afe-5725-4110-add5-e23e59122baf",
   "metadata": {},
   "outputs": [],
   "source": [
    "import time\n",
    "\n",
    "from time import sleep \n",
    "from typing import Callable"
   ]
  },
  {
   "cell_type": "markdown",
   "id": "aadccf8e-cbeb-4738-a3b6-a470c771b1bc",
   "metadata": {},
   "source": [
    "## Пример 1"
   ]
  },
  {
   "cell_type": "markdown",
   "id": "34e5cf2c-2e3e-4788-80de-1bceff3e04f2",
   "metadata": {},
   "source": [
    "Самая простая реализация декоратора. Выведем дату и время выполнения кода."
   ]
  },
  {
   "cell_type": "code",
   "execution_count": 2,
   "id": "7ed98a5d-5ae0-4c34-9eca-a006d4d24645",
   "metadata": {},
   "outputs": [
    {
     "data": {
      "text/plain": [
       "'hello world, said Daniil'"
      ]
     },
     "execution_count": 2,
     "metadata": {},
     "output_type": "execute_result"
    }
   ],
   "source": [
    "# Основная функция\n",
    "def hello_world(name: str) -> str:\n",
    "    return f'hello world, said {name}'\n",
    "\n",
    "hello_world('Daniil')"
   ]
  },
  {
   "cell_type": "code",
   "execution_count": 3,
   "id": "665b4f19-317b-4b22-9248-3312b78232a9",
   "metadata": {},
   "outputs": [
    {
     "name": "stdout",
     "output_type": "stream",
     "text": [
      "Sat Jan 13 16:17:48 2024\n"
     ]
    },
    {
     "data": {
      "text/plain": [
       "'hello world, said Daniil'"
      ]
     },
     "execution_count": 3,
     "metadata": {},
     "output_type": "execute_result"
    }
   ],
   "source": [
    "# декоратор\n",
    "def my_decorator(func):\n",
    "    def wrapper(*args, **kwargs):\n",
    "        print(time.ctime())\n",
    "        output = func(*args, **kwargs)\n",
    "        return output\n",
    "    return wrapper\n",
    "\n",
    "\n",
    "# Обертка основной функции\n",
    "@my_decorator\n",
    "def hello_world(name: str) -> str:\n",
    "    return f'hello world, said {name}'\n",
    "\n",
    "hello_world('Daniil')"
   ]
  },
  {
   "cell_type": "markdown",
   "id": "9354c421-a3ae-4f06-aa1a-2fb0d84400dd",
   "metadata": {},
   "source": [
    "## Пример 2"
   ]
  },
  {
   "cell_type": "markdown",
   "id": "4365ebe9-8acb-447d-a487-1a1691979b39",
   "metadata": {},
   "source": [
    "Реализуем декоратор для кэширования значений."
   ]
  },
  {
   "cell_type": "code",
   "execution_count": 4,
   "id": "506050fe-9634-4757-99a1-9f94712122d1",
   "metadata": {},
   "outputs": [
    {
     "data": {
      "text/plain": [
       "55"
      ]
     },
     "execution_count": 4,
     "metadata": {},
     "output_type": "execute_result"
    }
   ],
   "source": [
    "# функция для подсчета числа фибоначчи по номеру\n",
    "def fi(n):\n",
    "    if n <= 2:\n",
    "        return 1\n",
    "    return fi(n-1) + fi(n-2)\n",
    "\n",
    "fi(10)"
   ]
  },
  {
   "cell_type": "code",
   "execution_count": 5,
   "id": "9decf8ca-1389-4139-8754-dc8110537290",
   "metadata": {},
   "outputs": [
    {
     "data": {
      "text/plain": [
       "55"
      ]
     },
     "execution_count": 5,
     "metadata": {},
     "output_type": "execute_result"
    }
   ],
   "source": [
    "# словарь для хранения кэшированных значений\n",
    "saved = {}\n",
    "\n",
    "# декоратор\n",
    "def cash(func):\n",
    "    def wrapper(n) -> int:\n",
    "        if n in saved.keys():\n",
    "            return saved[n]\n",
    "        output = func(n)\n",
    "        saved[n] = output\n",
    "        return output\n",
    "    return wrapper\n",
    "\n",
    "# Обертка основной функции\n",
    "@cash\n",
    "def fi(n):\n",
    "    if n <= 2:\n",
    "        return 1\n",
    "    return fi(n-1) + fi(n-2)\n",
    "fi(10)"
   ]
  },
  {
   "cell_type": "code",
   "execution_count": 6,
   "id": "bf58022c-35c8-4285-b238-f3bafaab1c38",
   "metadata": {},
   "outputs": [
    {
     "data": {
      "text/plain": [
       "{2: 1, 1: 1, 3: 2, 4: 3, 5: 5, 6: 8, 7: 13, 8: 21, 9: 34, 10: 55}"
      ]
     },
     "execution_count": 6,
     "metadata": {},
     "output_type": "execute_result"
    }
   ],
   "source": [
    "saved"
   ]
  },
  {
   "cell_type": "markdown",
   "id": "00ded71a-acf4-4aba-9c03-7255844276b0",
   "metadata": {},
   "source": [
    "## Пример 3"
   ]
  },
  {
   "cell_type": "markdown",
   "id": "0b47d6c1-19af-4109-a0cd-49104dfde8d0",
   "metadata": {},
   "source": [
    "Напишем декоратор, который выводит прогресс выполнения цикла."
   ]
  },
  {
   "cell_type": "code",
   "execution_count": 7,
   "id": "3dbb0bc0-7136-4ef5-bc8a-00bc0c738aa1",
   "metadata": {},
   "outputs": [
    {
     "name": "stdout",
     "output_type": "stream",
     "text": [
      "Starting...\n",
      "Done\n"
     ]
    }
   ],
   "source": [
    "def slow_func(some_input):\n",
    "    print(\"Starting...\")\n",
    "    for _ in some_input:\n",
    "        sleep(0.1)\n",
    "    print(\"Done\")\n",
    "    \n",
    "slow_func(range(100))"
   ]
  },
  {
   "cell_type": "code",
   "execution_count": 8,
   "id": "6ac1f7f2-5057-4a4e-b666-4555354c954b",
   "metadata": {},
   "outputs": [
    {
     "name": "stdout",
     "output_type": "stream",
     "text": [
      "Starting...\n",
      "[##############################] 100%\n",
      "Done\n"
     ]
    }
   ],
   "source": [
    "def _percent(percent=0, width=30):\n",
    "    left = width * percent // 100\n",
    "    right = width - left\n",
    "    print('\\r[', \"#\" * left, ' ' * right, '] ', f'{percent:.0f}%', sep='', end='', flush=True)\n",
    "\n",
    "\n",
    "def _progress(other_input):\n",
    "    size = len(other_input)\n",
    "    for ind, i in enumerate(other_input):\n",
    "        _percent(100 * ind // size)\n",
    "        yield ind\n",
    "    _percent(100)\n",
    "    print('')\n",
    "\n",
    "\n",
    "def progress(func: Callable) -> Callable:\n",
    "    def wrapper(some_input):\n",
    "        func(_progress(some_input))\n",
    "    return wrapper\n",
    "\n",
    "\n",
    "@progress\n",
    "def slow_func(some_input):\n",
    "    print(\"Starting...\")\n",
    "    for _ in some_input:\n",
    "        sleep(0.1)\n",
    "    print(\"Done\")\n",
    "    \n",
    "slow_func(range(100, 120))"
   ]
  },
  {
   "cell_type": "markdown",
   "id": "0a505362-efb6-4482-abe5-0450fb881361",
   "metadata": {},
   "source": [
    "---"
   ]
  },
  {
   "cell_type": "markdown",
   "id": "20bbe038-4b41-43e0-8829-7b5849399f6e",
   "metadata": {},
   "source": [
    "P.S. В python есть встроенные декораторы, а также можно импортировать другие декораторы, которые могут сильно облегчить жизнь программиста."
   ]
  }
 ],
 "metadata": {
  "kernelspec": {
   "display_name": "Python 3 (ipykernel)",
   "language": "python",
   "name": "python3"
  },
  "language_info": {
   "codemirror_mode": {
    "name": "ipython",
    "version": 3
   },
   "file_extension": ".py",
   "mimetype": "text/x-python",
   "name": "python",
   "nbconvert_exporter": "python",
   "pygments_lexer": "ipython3",
   "version": "3.10.9"
  }
 },
 "nbformat": 4,
 "nbformat_minor": 5
}
