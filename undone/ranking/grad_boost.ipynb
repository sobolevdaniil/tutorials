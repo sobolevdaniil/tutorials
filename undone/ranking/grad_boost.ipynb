{
 "cells": [
  {
   "cell_type": "code",
   "execution_count": 1,
   "metadata": {
    "id": "pOkUBUP51bRd"
   },
   "outputs": [],
   "source": [
    "import pandas as pd\n",
    "import numpy as np\n",
    "\n",
    "from sklearn.tree import DecisionTreeRegressor\n",
    "from sklearn.model_selection import train_test_split\n",
    "from sklearn.metrics import mean_squared_error as mse\n",
    "\n",
    "from tqdm import trange"
   ]
  },
  {
   "cell_type": "markdown",
   "metadata": {},
   "source": [
    "---"
   ]
  },
  {
   "cell_type": "code",
   "execution_count": 2,
   "metadata": {
    "id": "vrdSkt7L1kfG"
   },
   "outputs": [
    {
     "name": "stdout",
     "output_type": "stream",
     "text": [
      "<class 'pandas.core.frame.DataFrame'>\n",
      "RangeIndex: 20640 entries, 0 to 20639\n",
      "Data columns (total 14 columns):\n",
      " #   Column                    Non-Null Count  Dtype  \n",
      "---  ------                    --------------  -----  \n",
      " 0   Median_House_Value        20640 non-null  float64\n",
      " 1   Median_Income             20640 non-null  float64\n",
      " 2   Median_Age                20640 non-null  int64  \n",
      " 3   Tot_Rooms                 20640 non-null  int64  \n",
      " 4   Tot_Bedrooms              20640 non-null  int64  \n",
      " 5   Population                20640 non-null  int64  \n",
      " 6   Households                20640 non-null  int64  \n",
      " 7   Latitude                  20640 non-null  float64\n",
      " 8   Longitude                 20640 non-null  float64\n",
      " 9   Distance_to_coast         20640 non-null  float64\n",
      " 10  Distance_to_LA            20640 non-null  float64\n",
      " 11  Distance_to_SanDiego      20640 non-null  float64\n",
      " 12  Distance_to_SanJose       20640 non-null  float64\n",
      " 13  Distance_to_SanFrancisco  20640 non-null  float64\n",
      "dtypes: float64(9), int64(5)\n",
      "memory usage: 2.2 MB\n"
     ]
    }
   ],
   "source": [
    "data = pd.read_csv('California_Houses.csv')\n",
    "data.info()"
   ]
  },
  {
   "cell_type": "code",
   "execution_count": 3,
   "metadata": {
    "colab": {
     "base_uri": "https://localhost:8080/"
    },
    "id": "KAIse7g41n-U",
    "outputId": "9c7e218d-11b7-4c43-d562-ea69d0cdefda"
   },
   "outputs": [
    {
     "data": {
      "text/html": [
       "<div>\n",
       "<style scoped>\n",
       "    .dataframe tbody tr th:only-of-type {\n",
       "        vertical-align: middle;\n",
       "    }\n",
       "\n",
       "    .dataframe tbody tr th {\n",
       "        vertical-align: top;\n",
       "    }\n",
       "\n",
       "    .dataframe thead th {\n",
       "        text-align: right;\n",
       "    }\n",
       "</style>\n",
       "<table border=\"1\" class=\"dataframe\">\n",
       "  <thead>\n",
       "    <tr style=\"text-align: right;\">\n",
       "      <th></th>\n",
       "      <th>Median_House_Value</th>\n",
       "      <th>Median_Income</th>\n",
       "      <th>Median_Age</th>\n",
       "      <th>Tot_Rooms</th>\n",
       "      <th>Tot_Bedrooms</th>\n",
       "      <th>Population</th>\n",
       "      <th>Households</th>\n",
       "      <th>Latitude</th>\n",
       "      <th>Longitude</th>\n",
       "      <th>Distance_to_coast</th>\n",
       "      <th>Distance_to_LA</th>\n",
       "      <th>Distance_to_SanDiego</th>\n",
       "      <th>Distance_to_SanJose</th>\n",
       "      <th>Distance_to_SanFrancisco</th>\n",
       "    </tr>\n",
       "  </thead>\n",
       "  <tbody>\n",
       "    <tr>\n",
       "      <th>13047</th>\n",
       "      <td>112500.0</td>\n",
       "      <td>2.6981</td>\n",
       "      <td>35</td>\n",
       "      <td>7088</td>\n",
       "      <td>1279</td>\n",
       "      <td>4885</td>\n",
       "      <td>1272</td>\n",
       "      <td>38.55</td>\n",
       "      <td>-121.28</td>\n",
       "      <td>58964.246479</td>\n",
       "      <td>569262.022494</td>\n",
       "      <td>747735.816857</td>\n",
       "      <td>145353.367917</td>\n",
       "      <td>132579.089667</td>\n",
       "    </tr>\n",
       "    <tr>\n",
       "      <th>3114</th>\n",
       "      <td>87200.0</td>\n",
       "      <td>4.8494</td>\n",
       "      <td>5</td>\n",
       "      <td>5735</td>\n",
       "      <td>932</td>\n",
       "      <td>2623</td>\n",
       "      <td>862</td>\n",
       "      <td>35.61</td>\n",
       "      <td>-117.66</td>\n",
       "      <td>193205.093923</td>\n",
       "      <td>181221.898393</td>\n",
       "      <td>325083.083178</td>\n",
       "      <td>424292.162475</td>\n",
       "      <td>488659.520693</td>\n",
       "    </tr>\n",
       "    <tr>\n",
       "      <th>13179</th>\n",
       "      <td>292400.0</td>\n",
       "      <td>6.7172</td>\n",
       "      <td>3</td>\n",
       "      <td>9662</td>\n",
       "      <td>1385</td>\n",
       "      <td>2497</td>\n",
       "      <td>856</td>\n",
       "      <td>33.98</td>\n",
       "      <td>-117.76</td>\n",
       "      <td>41206.686745</td>\n",
       "      <td>45297.516932</td>\n",
       "      <td>151185.871182</td>\n",
       "      <td>527754.346326</td>\n",
       "      <td>595745.520381</td>\n",
       "    </tr>\n",
       "  </tbody>\n",
       "</table>\n",
       "</div>"
      ],
      "text/plain": [
       "       Median_House_Value  Median_Income  Median_Age  Tot_Rooms  Tot_Bedrooms  \\\n",
       "13047            112500.0         2.6981          35       7088          1279   \n",
       "3114              87200.0         4.8494           5       5735           932   \n",
       "13179            292400.0         6.7172           3       9662          1385   \n",
       "\n",
       "       Population  Households  Latitude  Longitude  Distance_to_coast  \\\n",
       "13047        4885        1272     38.55    -121.28       58964.246479   \n",
       "3114         2623         862     35.61    -117.66      193205.093923   \n",
       "13179        2497         856     33.98    -117.76       41206.686745   \n",
       "\n",
       "       Distance_to_LA  Distance_to_SanDiego  Distance_to_SanJose  \\\n",
       "13047   569262.022494         747735.816857        145353.367917   \n",
       "3114    181221.898393         325083.083178        424292.162475   \n",
       "13179    45297.516932         151185.871182        527754.346326   \n",
       "\n",
       "       Distance_to_SanFrancisco  \n",
       "13047             132579.089667  \n",
       "3114              488659.520693  \n",
       "13179             595745.520381  "
      ]
     },
     "execution_count": 3,
     "metadata": {},
     "output_type": "execute_result"
    }
   ],
   "source": [
    "data.sample(3)"
   ]
  },
  {
   "cell_type": "markdown",
   "metadata": {
    "id": "kfWNVm_Z1wTO"
   },
   "source": [
    "---"
   ]
  },
  {
   "cell_type": "code",
   "execution_count": 4,
   "metadata": {
    "id": "AYkS46kN166h"
   },
   "outputs": [],
   "source": [
    "X_train, X_test, y_train, y_test = train_test_split(data.drop('Median_House_Value', axis=1), data['Median_House_Value'], test_size=0.2, random_state=2601)"
   ]
  },
  {
   "cell_type": "code",
   "execution_count": 5,
   "metadata": {
    "id": "k4pGOHLE2H0F"
   },
   "outputs": [
    {
     "data": {
      "text/plain": [
       "3762068957.3267994"
      ]
     },
     "execution_count": 5,
     "metadata": {},
     "output_type": "execute_result"
    }
   ],
   "source": [
    "DTR = DecisionTreeRegressor(random_state=2601, max_depth=12)\n",
    "DTR.fit(X_train, y_train)\n",
    "mse(y_test, DTR.predict(X_test))"
   ]
  },
  {
   "cell_type": "markdown",
   "metadata": {
    "id": "vs4On0IK3Aac"
   },
   "source": [
    "---"
   ]
  },
  {
   "cell_type": "code",
   "execution_count": 67,
   "metadata": {
    "id": "fAmu-sTr2mYw"
   },
   "outputs": [],
   "source": [
    "class GradientBoostingRegressor:\n",
    "    def __init__(self,\n",
    "               n_estimators=100,\n",
    "               learning_rate=0.1,\n",
    "               max_depth=3,\n",
    "               max_features=None,\n",
    "               random_state=2601):\n",
    "        self.n_estimators = n_estimators\n",
    "        self.learning_rate = learning_rate\n",
    "        self.max_depth = max_depth\n",
    "        self.max_features = max_features\n",
    "        self.random_state = random_state\n",
    "        self.trees = []\n",
    "\n",
    "    def _is_fitted(self):\n",
    "        return len(getattr(self, \"estimators_\", [])) > 0\n",
    "\n",
    "    def fit(self, X, y):\n",
    "        # DTR = DecisionTreeRegressor(random_state=self.random_state, max_depth=self.max_depth, max_features=self.max_features).fit(X, y)\n",
    "        # self.trees.append(DTR)\n",
    "        # y_pred = y - DTR.predict(X)\n",
    "        y_pred = np.full(np.shape(y), np.mean(y, axis=0))\n",
    "\n",
    "        for _ in trange(self.n_estimators):\n",
    "            resid = -(y - y_pred)\n",
    "            DTR = DecisionTreeRegressor(max_depth=self.max_depth).fit(X, resid)\n",
    "            y_pred -= self.learning_rate * DTR.predict(X)\n",
    "            self.trees.append(DTR)\n",
    "\n",
    "\n",
    "    def predict(self, X):\n",
    "\n",
    "        pred = np.array([])\n",
    "        for tree in self.trees:\n",
    "            pred = -tree.predict(X) if not pred.any() else pred - self.learning_rate * tree.predict(X)\n",
    "\n",
    "        return pred"
   ]
  },
  {
   "cell_type": "code",
   "execution_count": 68,
   "metadata": {
    "id": "rLcqwQ2O82K6"
   },
   "outputs": [
    {
     "name": "stderr",
     "output_type": "stream",
     "text": [
      "100%|██████████| 100/100 [00:04<00:00, 21.60it/s]\n"
     ]
    },
    {
     "data": {
      "text/plain": [
       "51008333325.05446"
      ]
     },
     "execution_count": 68,
     "metadata": {},
     "output_type": "execute_result"
    }
   ],
   "source": [
    "GBR = GradientBoostingRegressor()\n",
    "GBR.fit(X_train, y_train)\n",
    "mse(y_test, GBR.predict(X_test))"
   ]
  },
  {
   "cell_type": "markdown",
   "metadata": {},
   "source": [
    "---"
   ]
  },
  {
   "cell_type": "code",
   "execution_count": 32,
   "metadata": {
    "id": "CDCK2klSDTFk"
   },
   "outputs": [],
   "source": [
    "class GradientBoostingRegressor:\n",
    "    def __init__(self,\n",
    "               n_estimators=100,\n",
    "               learning_rate=0.1,\n",
    "               max_depth=3,\n",
    "               max_features=None,\n",
    "               random_state=2601):\n",
    "        self.n_estimators = n_estimators\n",
    "        self.learning_rate = learning_rate\n",
    "        self.max_depth = max_depth\n",
    "        self.max_features = max_features\n",
    "        self.init_estimator_ = None\n",
    "        self.estimators_ = []\n",
    "\n",
    "    def _is_fitted(self):\n",
    "        return len(getattr(self, \"estimators_\", [])) > 0\n",
    "\n",
    "    def fit(self, X, y):\n",
    "        self.init_estimator_ = DecisionTreeRegressor(max_depth=self.max_depth, max_features=self.max_features).fit(X, y)\n",
    "        prev_res = 2 * (y - self.init_estimator_.predict(X))\n",
    "\n",
    "        for _ in trange(self.n_estimators):\n",
    "            DTR = DecisionTreeRegressor(max_depth=self.max_depth, max_features=self.max_features).fit(X, prev_res)\n",
    "            prev_res -= self.learning_rate * 2 * DTR.predict(X)\n",
    "            self.estimators_.append(DTR)\n",
    "    \n",
    "    def predict(self, X):\n",
    "        prev_pred = self.init_estimator_.predict(X)\n",
    "        for tree in self.estimators_:\n",
    "            prev_pred += self.learning_rate * tree.predict(X)\n",
    "        return prev_pred"
   ]
  },
  {
   "cell_type": "code",
   "execution_count": 33,
   "metadata": {},
   "outputs": [
    {
     "name": "stderr",
     "output_type": "stream",
     "text": [
      "100%|██████████| 100/100 [00:04<00:00, 21.36it/s]\n"
     ]
    },
    {
     "data": {
      "text/plain": [
       "2587864134.35594"
      ]
     },
     "execution_count": 33,
     "metadata": {},
     "output_type": "execute_result"
    }
   ],
   "source": [
    "GBR = GradientBoostingRegressor()\n",
    "GBR.fit(X_train, y_train)\n",
    "mse(y_test, GBR.predict(X_test))"
   ]
  },
  {
   "cell_type": "markdown",
   "metadata": {},
   "source": [
    "---"
   ]
  },
  {
   "cell_type": "code",
   "execution_count": null,
   "metadata": {},
   "outputs": [],
   "source": []
  }
 ],
 "metadata": {
  "colab": {
   "provenance": []
  },
  "kernelspec": {
   "display_name": "Python 3 (ipykernel)",
   "language": "python",
   "name": "python3"
  },
  "language_info": {
   "codemirror_mode": {
    "name": "ipython",
    "version": 3
   },
   "file_extension": ".py",
   "mimetype": "text/x-python",
   "name": "python",
   "nbconvert_exporter": "python",
   "pygments_lexer": "ipython3",
   "version": "3.10.9"
  }
 },
 "nbformat": 4,
 "nbformat_minor": 4
}
