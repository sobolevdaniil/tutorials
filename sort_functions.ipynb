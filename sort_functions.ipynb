{
 "cells": [
  {
   "cell_type": "markdown",
   "id": "e2f23c09-3e1f-46e6-a7e0-1b4bc8c79f82",
   "metadata": {},
   "source": [
    "### Imports"
   ]
  },
  {
   "cell_type": "code",
   "execution_count": 9,
   "id": "9494cecb-caa1-44fd-a692-0e61c0a0b125",
   "metadata": {},
   "outputs": [],
   "source": [
    "import numpy as np"
   ]
  },
  {
   "cell_type": "markdown",
   "id": "5fc72bee-1b54-4fbc-a678-63aa33eece70",
   "metadata": {},
   "source": [
    "Что тут хочу:\n",
    "- Сортировку пузырьком \n",
    "- Сортировку вставками\n",
    "- Быстрая сортировка\n",
    "- Сортировка слиянием\n",
    "\n",
    "Мб Что-то ещё, но остальное лично для меян менее важное\n",
    "Да и не хочется другое\n",
    "- Можно улучшение сортирвки пузырьком \n",
    "- Два вида сортировки быстрой (с/без доп памяти)\n",
    "- Пирамидальная сортировка\n",
    "- Привести небольшое пояснение к работе алгоритма\n",
    "- Показать вреям работы\n",
    "- Показывать время работы на различных датасетах"
   ]
  },
  {
   "cell_type": "markdown",
   "id": "281919b5-4b2c-42e4-adbc-eaceb8b61f6e",
   "metadata": {},
   "source": [
    "### Data"
   ]
  },
  {
   "cell_type": "code",
   "execution_count": 10,
   "id": "48465631-600e-4795-8d85-3f6a8a6cdf37",
   "metadata": {},
   "outputs": [],
   "source": [
    "np.random.seed(1009)\n",
    "arr = list(np.random.randint(low=-100, high=100, size=10_000))\n",
    "sorted_arr = list(np.sort(arr))"
   ]
  },
  {
   "cell_type": "markdown",
   "id": "c4cebde8-498b-4b32-8dfc-4f5462979802",
   "metadata": {},
   "source": [
    "### Bubble Sort"
   ]
  },
  {
   "cell_type": "code",
   "execution_count": 12,
   "id": "f0c25164-ee82-4ce4-808d-49cdfadc9ecb",
   "metadata": {},
   "outputs": [],
   "source": [
    "def bubble_sort(arr: list) -> list:\n",
    "    \n",
    "    a = arr.copy()\n",
    "    n = len(a)\n",
    "    \n",
    "    for i in range(n-1):\n",
    "        for j in range(0, n-i-1):\n",
    "            if a[j] > a[j+1]:\n",
    "                a[j], a[j+1] = a[j+1], a[j]\n",
    "    \n",
    "    return a  "
   ]
  },
  {
   "cell_type": "code",
   "execution_count": 15,
   "id": "a16bee3a-2957-4d50-91df-2e510edc2148",
   "metadata": {},
   "outputs": [
    {
     "name": "stdout",
     "output_type": "stream",
     "text": [
      "7.82 s ± 85.2 ms per loop (mean ± std. dev. of 7 runs, 1 loop each)\n"
     ]
    }
   ],
   "source": [
    "%timeit bubble_sort(arr) == sorted_arr"
   ]
  },
  {
   "cell_type": "markdown",
   "id": "c7a22f1c-6368-4165-aaf4-d1dcd0e43e87",
   "metadata": {},
   "source": [
    "### Insertion Sort"
   ]
  },
  {
   "cell_type": "code",
   "execution_count": null,
   "id": "5bc13767-f45e-4650-97e6-1c9ad62154d0",
   "metadata": {},
   "outputs": [],
   "source": []
  }
 ],
 "metadata": {
  "kernelspec": {
   "display_name": "Python 3 (ipykernel)",
   "language": "python",
   "name": "python3"
  },
  "language_info": {
   "codemirror_mode": {
    "name": "ipython",
    "version": 3
   },
   "file_extension": ".py",
   "mimetype": "text/x-python",
   "name": "python",
   "nbconvert_exporter": "python",
   "pygments_lexer": "ipython3",
   "version": "3.10.9"
  }
 },
 "nbformat": 4,
 "nbformat_minor": 5
}
