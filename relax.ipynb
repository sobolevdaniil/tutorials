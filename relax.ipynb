{
 "cells": [
  {
   "cell_type": "markdown",
   "id": "35060446-6c3a-4c20-9282-1d71526395c1",
   "metadata": {},
   "source": [
    "[по этой лекции можно сделать туто](https://www.youtube.com/watch?v=wGNSY3YFQfA)\n",
    "\n",
    "хороша тем, что лично дял меня соединяет некоторые разделы/направления в одном месте"
   ]
  }
 ],
 "metadata": {
  "kernelspec": {
   "display_name": "Python 3 (ipykernel)",
   "language": "python",
   "name": "python3"
  },
  "language_info": {
   "codemirror_mode": {
    "name": "ipython",
    "version": 3
   },
   "file_extension": ".py",
   "mimetype": "text/x-python",
   "name": "python",
   "nbconvert_exporter": "python",
   "pygments_lexer": "ipython3",
   "version": "3.10.9"
  }
 },
 "nbformat": 4,
 "nbformat_minor": 5
}
